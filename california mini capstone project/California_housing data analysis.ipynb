{
 "cells": [
  {
   "cell_type": "markdown",
   "id": "1628c504",
   "metadata": {},
   "source": [
    "# INTRODUCTION :"
   ]
  },
  {
   "cell_type": "markdown",
   "id": "39057246",
   "metadata": {},
   "source": [
    "The dataset used in this project gives us the brief description about the california housing data. By analysing this california house dataset We will determine the approximate prices for the houses. The main aim of this dataset is to predict median house prices for california. This dataset consists of the following features as follows:"
   ]
  },
  {
   "cell_type": "markdown",
   "id": "83691555",
   "metadata": {},
   "source": [
    "# FEATURES: "
   ]
  },
  {
   "cell_type": "markdown",
   "id": "e3b9ec99",
   "metadata": {},
   "source": [
    "1.longitude: A measure of distance a house is located horizontally that is from west to east,a higher value is further towards west.Statistically it comes under numerical data type, i.e.,Continuous data."
   ]
  },
  {
   "cell_type": "markdown",
   "id": "858a447d",
   "metadata": {},
   "source": [
    "2.latitude: A measure of distance of the house located vertically towards north, a higher value is furthur towards north. Statistically it comes under numerical data type i.e., continuous data. "
   ]
  },
  {
   "cell_type": "markdown",
   "id": "137a0e29",
   "metadata": {},
   "source": [
    "3.housing_median_age: It is median age of a house. Statistically it is of quantitative data i.e., continuous data."
   ]
  },
  {
   "cell_type": "markdown",
   "id": "87d66d72",
   "metadata": {},
   "source": [
    "4.total_rooms: Total number of rooms within a block. Statistically it is of quantitative data i.e., discrete data."
   ]
  },
  {
   "cell_type": "markdown",
   "id": "22009aa5",
   "metadata": {},
   "source": [
    "5.total_bedrooms: Total number of bedrooms within a block. Statistically it is of quantitative data type i.e., discrete data."
   ]
  },
  {
   "cell_type": "markdown",
   "id": "1c2c87f3",
   "metadata": {},
   "source": [
    "6.population: Total number of people residing within a block.Statistically it is of quantitative data type i.e., discrete data."
   ]
  },
  {
   "cell_type": "markdown",
   "id": "a167c48b",
   "metadata": {},
   "source": [
    "7.households: Total number of households,a group of people residing within a homeunit.Statistically it is of quantitative data type,i.e.,discrete data."
   ]
  },
  {
   "cell_type": "markdown",
   "id": "e073fb0d",
   "metadata": {},
   "source": [
    "8.median_income: Median income of households within a block of houses.(measured in tens of thousands of US Dollars).It comes under continuous data."
   ]
  },
  {
   "cell_type": "markdown",
   "id": "73517cc8",
   "metadata": {},
   "source": [
    "9.median_house_value: Median house value for households within a block(measured in US Dollars).It comes under continuous data."
   ]
  },
  {
   "cell_type": "markdown",
   "id": "84b90aed",
   "metadata": {},
   "source": [
    "10.Ocean_proximity: Location of the house with respect to ocean.Statistically it is of categorical data i.e.,it is of nominal data type."
   ]
  },
  {
   "cell_type": "markdown",
   "id": "ae60102a",
   "metadata": {},
   "source": [
    "# Importing necessary libraries"
   ]
  },
  {
   "cell_type": "code",
   "execution_count": 49,
   "id": "49f98d41",
   "metadata": {},
   "outputs": [],
   "source": [
    "import pandas as pd\n",
    "import numpy as np\n",
    "import matplotlib.pyplot as plt\n",
    "import seaborn as sns"
   ]
  },
  {
   "cell_type": "markdown",
   "id": "3a833697",
   "metadata": {},
   "source": [
    "# Loading and Getting a Glimpse of the Dataset\n",
    "The dataset available to us is in .xlsx format, so we will load the dataset into pandas dataframe for starting our analysis"
   ]
  },
  {
   "cell_type": "code",
   "execution_count": 50,
   "id": "051acd63",
   "metadata": {},
   "outputs": [],
   "source": [
    "# importing the data using pandas and creating a dataframe\n",
    "df = pd.read_excel(\"housing1.xlsx\")"
   ]
  },
  {
   "cell_type": "code",
   "execution_count": 51,
   "id": "98d4a1c3",
   "metadata": {},
   "outputs": [
    {
     "name": "stdout",
     "output_type": "stream",
     "text": [
      "The dataset has 20640 observations and 10 variables\n"
     ]
    }
   ],
   "source": [
    "# Getting the number of features and observations in the dataset\n",
    "a = df.shape\n",
    "print(f'The dataset has {df.shape[0]} observations and {df.shape[1]} variables')"
   ]
  },
  {
   "cell_type": "code",
   "execution_count": 52,
   "id": "26e60258",
   "metadata": {},
   "outputs": [
    {
     "data": {
      "text/html": [
       "<div>\n",
       "<style scoped>\n",
       "    .dataframe tbody tr th:only-of-type {\n",
       "        vertical-align: middle;\n",
       "    }\n",
       "\n",
       "    .dataframe tbody tr th {\n",
       "        vertical-align: top;\n",
       "    }\n",
       "\n",
       "    .dataframe thead th {\n",
       "        text-align: right;\n",
       "    }\n",
       "</style>\n",
       "<table border=\"1\" class=\"dataframe\">\n",
       "  <thead>\n",
       "    <tr style=\"text-align: right;\">\n",
       "      <th></th>\n",
       "      <th>longitude</th>\n",
       "      <th>latitude</th>\n",
       "      <th>housing_median_age</th>\n",
       "      <th>total_rooms</th>\n",
       "      <th>total_bedrooms</th>\n",
       "      <th>population</th>\n",
       "      <th>households</th>\n",
       "      <th>median_income</th>\n",
       "      <th>median_house_value</th>\n",
       "      <th>ocean_proximity</th>\n",
       "    </tr>\n",
       "  </thead>\n",
       "  <tbody>\n",
       "    <tr>\n",
       "      <th>0</th>\n",
       "      <td>-122.23</td>\n",
       "      <td>37.88</td>\n",
       "      <td>41</td>\n",
       "      <td>880</td>\n",
       "      <td>129.0</td>\n",
       "      <td>322</td>\n",
       "      <td>126</td>\n",
       "      <td>8.3252</td>\n",
       "      <td>452600</td>\n",
       "      <td>NEAR BAY</td>\n",
       "    </tr>\n",
       "    <tr>\n",
       "      <th>1</th>\n",
       "      <td>-122.22</td>\n",
       "      <td>37.86</td>\n",
       "      <td>21</td>\n",
       "      <td>7099</td>\n",
       "      <td>1106.0</td>\n",
       "      <td>2401</td>\n",
       "      <td>1138</td>\n",
       "      <td>8.3014</td>\n",
       "      <td>358500</td>\n",
       "      <td>NEAR BAY</td>\n",
       "    </tr>\n",
       "    <tr>\n",
       "      <th>2</th>\n",
       "      <td>-122.24</td>\n",
       "      <td>37.85</td>\n",
       "      <td>52</td>\n",
       "      <td>1467</td>\n",
       "      <td>190.0</td>\n",
       "      <td>496</td>\n",
       "      <td>177</td>\n",
       "      <td>7.2574</td>\n",
       "      <td>352100</td>\n",
       "      <td>NEAR BAY</td>\n",
       "    </tr>\n",
       "    <tr>\n",
       "      <th>3</th>\n",
       "      <td>-122.25</td>\n",
       "      <td>37.85</td>\n",
       "      <td>52</td>\n",
       "      <td>1274</td>\n",
       "      <td>235.0</td>\n",
       "      <td>558</td>\n",
       "      <td>219</td>\n",
       "      <td>5.6431</td>\n",
       "      <td>341300</td>\n",
       "      <td>NEAR BAY</td>\n",
       "    </tr>\n",
       "    <tr>\n",
       "      <th>4</th>\n",
       "      <td>-122.25</td>\n",
       "      <td>37.85</td>\n",
       "      <td>52</td>\n",
       "      <td>1627</td>\n",
       "      <td>280.0</td>\n",
       "      <td>565</td>\n",
       "      <td>259</td>\n",
       "      <td>3.8462</td>\n",
       "      <td>342200</td>\n",
       "      <td>NEAR BAY</td>\n",
       "    </tr>\n",
       "  </tbody>\n",
       "</table>\n",
       "</div>"
      ],
      "text/plain": [
       "   longitude  latitude  housing_median_age  total_rooms  total_bedrooms  \\\n",
       "0    -122.23     37.88                  41          880           129.0   \n",
       "1    -122.22     37.86                  21         7099          1106.0   \n",
       "2    -122.24     37.85                  52         1467           190.0   \n",
       "3    -122.25     37.85                  52         1274           235.0   \n",
       "4    -122.25     37.85                  52         1627           280.0   \n",
       "\n",
       "   population  households  median_income  median_house_value ocean_proximity  \n",
       "0         322         126         8.3252              452600        NEAR BAY  \n",
       "1        2401        1138         8.3014              358500        NEAR BAY  \n",
       "2         496         177         7.2574              352100        NEAR BAY  \n",
       "3         558         219         5.6431              341300        NEAR BAY  \n",
       "4         565         259         3.8462              342200        NEAR BAY  "
      ]
     },
     "execution_count": 52,
     "metadata": {},
     "output_type": "execute_result"
    }
   ],
   "source": [
    "# Getting a glimpse of top 5 rows of the dataset\n",
    "df.head()"
   ]
  },
  {
   "cell_type": "code",
   "execution_count": 53,
   "id": "1da9a658",
   "metadata": {},
   "outputs": [
    {
     "data": {
      "text/html": [
       "<div>\n",
       "<style scoped>\n",
       "    .dataframe tbody tr th:only-of-type {\n",
       "        vertical-align: middle;\n",
       "    }\n",
       "\n",
       "    .dataframe tbody tr th {\n",
       "        vertical-align: top;\n",
       "    }\n",
       "\n",
       "    .dataframe thead th {\n",
       "        text-align: right;\n",
       "    }\n",
       "</style>\n",
       "<table border=\"1\" class=\"dataframe\">\n",
       "  <thead>\n",
       "    <tr style=\"text-align: right;\">\n",
       "      <th></th>\n",
       "      <th>longitude</th>\n",
       "      <th>latitude</th>\n",
       "      <th>housing_median_age</th>\n",
       "      <th>total_rooms</th>\n",
       "      <th>total_bedrooms</th>\n",
       "      <th>population</th>\n",
       "      <th>households</th>\n",
       "      <th>median_income</th>\n",
       "      <th>median_house_value</th>\n",
       "      <th>ocean_proximity</th>\n",
       "    </tr>\n",
       "  </thead>\n",
       "  <tbody>\n",
       "    <tr>\n",
       "      <th>20635</th>\n",
       "      <td>-121.09</td>\n",
       "      <td>39.48</td>\n",
       "      <td>25</td>\n",
       "      <td>1665</td>\n",
       "      <td>374.0</td>\n",
       "      <td>845</td>\n",
       "      <td>330</td>\n",
       "      <td>1.5603</td>\n",
       "      <td>78100</td>\n",
       "      <td>INLAND</td>\n",
       "    </tr>\n",
       "    <tr>\n",
       "      <th>20636</th>\n",
       "      <td>-121.21</td>\n",
       "      <td>39.49</td>\n",
       "      <td>18</td>\n",
       "      <td>697</td>\n",
       "      <td>150.0</td>\n",
       "      <td>356</td>\n",
       "      <td>114</td>\n",
       "      <td>2.5568</td>\n",
       "      <td>77100</td>\n",
       "      <td>INLAND</td>\n",
       "    </tr>\n",
       "    <tr>\n",
       "      <th>20637</th>\n",
       "      <td>-121.22</td>\n",
       "      <td>39.43</td>\n",
       "      <td>17</td>\n",
       "      <td>2254</td>\n",
       "      <td>485.0</td>\n",
       "      <td>1007</td>\n",
       "      <td>433</td>\n",
       "      <td>1.7000</td>\n",
       "      <td>92300</td>\n",
       "      <td>INLAND</td>\n",
       "    </tr>\n",
       "    <tr>\n",
       "      <th>20638</th>\n",
       "      <td>-121.32</td>\n",
       "      <td>39.43</td>\n",
       "      <td>18</td>\n",
       "      <td>1860</td>\n",
       "      <td>409.0</td>\n",
       "      <td>741</td>\n",
       "      <td>349</td>\n",
       "      <td>1.8672</td>\n",
       "      <td>84700</td>\n",
       "      <td>INLAND</td>\n",
       "    </tr>\n",
       "    <tr>\n",
       "      <th>20639</th>\n",
       "      <td>-121.24</td>\n",
       "      <td>39.37</td>\n",
       "      <td>16</td>\n",
       "      <td>2785</td>\n",
       "      <td>616.0</td>\n",
       "      <td>1387</td>\n",
       "      <td>530</td>\n",
       "      <td>2.3886</td>\n",
       "      <td>89400</td>\n",
       "      <td>INLAND</td>\n",
       "    </tr>\n",
       "  </tbody>\n",
       "</table>\n",
       "</div>"
      ],
      "text/plain": [
       "       longitude  latitude  housing_median_age  total_rooms  total_bedrooms  \\\n",
       "20635    -121.09     39.48                  25         1665           374.0   \n",
       "20636    -121.21     39.49                  18          697           150.0   \n",
       "20637    -121.22     39.43                  17         2254           485.0   \n",
       "20638    -121.32     39.43                  18         1860           409.0   \n",
       "20639    -121.24     39.37                  16         2785           616.0   \n",
       "\n",
       "       population  households  median_income  median_house_value  \\\n",
       "20635         845         330         1.5603               78100   \n",
       "20636         356         114         2.5568               77100   \n",
       "20637        1007         433         1.7000               92300   \n",
       "20638         741         349         1.8672               84700   \n",
       "20639        1387         530         2.3886               89400   \n",
       "\n",
       "      ocean_proximity  \n",
       "20635          INLAND  \n",
       "20636          INLAND  \n",
       "20637          INLAND  \n",
       "20638          INLAND  \n",
       "20639          INLAND  "
      ]
     },
     "execution_count": 53,
     "metadata": {},
     "output_type": "execute_result"
    }
   ],
   "source": [
    "# Getting a glimpse of bottom 5 rows of the dataset\n",
    "df.tail()"
   ]
  },
  {
   "cell_type": "markdown",
   "id": "a05d53cc",
   "metadata": {},
   "source": [
    "# Basic Exploration Of The Data(Basic EDA)"
   ]
  },
  {
   "cell_type": "code",
   "execution_count": 54,
   "id": "b15b10bd",
   "metadata": {},
   "outputs": [
    {
     "data": {
      "text/plain": [
       "Index(['longitude', 'latitude', 'housing_median_age', 'total_rooms',\n",
       "       'total_bedrooms', 'population', 'households', 'median_income',\n",
       "       'median_house_value', 'ocean_proximity'],\n",
       "      dtype='object')"
      ]
     },
     "execution_count": 54,
     "metadata": {},
     "output_type": "execute_result"
    }
   ],
   "source": [
    "# check if the headers is well written\n",
    "df.columns"
   ]
  },
  {
   "cell_type": "markdown",
   "id": "51096bc1",
   "metadata": {},
   "source": [
    "From the above, the headers are written well.We need not to change or rename any column names."
   ]
  },
  {
   "cell_type": "markdown",
   "id": "a546b9e8",
   "metadata": {},
   "source": [
    "# Number of each data type columns"
   ]
  },
  {
   "cell_type": "code",
   "execution_count": 55,
   "id": "040da482",
   "metadata": {},
   "outputs": [
    {
     "name": "stdout",
     "output_type": "stream",
     "text": [
      "We have 9 numerical columns\n",
      "We have 1 categorical columns\n",
      "with a total number 10 columns\n"
     ]
    }
   ],
   "source": [
    "# checking for the number of each data type-------\n",
    "df_numeric = df.select_dtypes(include = \"number\") # Extract columns with number\n",
    "num = len(df_numeric.columns) # sum the columns extracted\n",
    "print(f\"We have {num} numerical columns\") # format string\n",
    "\n",
    "df_obj = df.select_dtypes(include = \"object\") # Extract columns with object\n",
    "num_2 = len(df_obj.columns) # sum the columns extracted\n",
    "print(f\"We have {num_2} categorical columns\") # format string\n",
    "\n",
    "print(f\"with a total number {num + num_2} columns\")"
   ]
  },
  {
   "cell_type": "markdown",
   "id": "23263c75",
   "metadata": {},
   "source": [
    "# Lets check the data type of each variable as read by the python"
   ]
  },
  {
   "cell_type": "code",
   "execution_count": 56,
   "id": "6e9b387e",
   "metadata": {},
   "outputs": [
    {
     "name": "stdout",
     "output_type": "stream",
     "text": [
      "<class 'pandas.core.frame.DataFrame'>\n",
      "RangeIndex: 20640 entries, 0 to 20639\n",
      "Data columns (total 10 columns):\n",
      " #   Column              Non-Null Count  Dtype  \n",
      "---  ------              --------------  -----  \n",
      " 0   longitude           20640 non-null  float64\n",
      " 1   latitude            20640 non-null  float64\n",
      " 2   housing_median_age  20640 non-null  int64  \n",
      " 3   total_rooms         20640 non-null  int64  \n",
      " 4   total_bedrooms      20433 non-null  float64\n",
      " 5   population          20640 non-null  int64  \n",
      " 6   households          20640 non-null  int64  \n",
      " 7   median_income       20640 non-null  float64\n",
      " 8   median_house_value  20640 non-null  int64  \n",
      " 9   ocean_proximity     20640 non-null  object \n",
      "dtypes: float64(4), int64(5), object(1)\n",
      "memory usage: 1.6+ MB\n"
     ]
    }
   ],
   "source": [
    "# Using info() function to get data type of each variable\n",
    "df.info()"
   ]
  },
  {
   "cell_type": "markdown",
   "id": "c1132dd2",
   "metadata": {},
   "source": [
    " From the above it is to be noted that python reads longitude,latitude,total_bedrooms,median_income as float and \n",
    " housing_median_age,total_rooms,population,households,median_house_value as integer and \n",
    " ocean_proximity as object."
   ]
  },
  {
   "cell_type": "code",
   "execution_count": 57,
   "id": "d69f8a29",
   "metadata": {},
   "outputs": [
    {
     "data": {
      "text/html": [
       "<div>\n",
       "<style scoped>\n",
       "    .dataframe tbody tr th:only-of-type {\n",
       "        vertical-align: middle;\n",
       "    }\n",
       "\n",
       "    .dataframe tbody tr th {\n",
       "        vertical-align: top;\n",
       "    }\n",
       "\n",
       "    .dataframe thead th {\n",
       "        text-align: right;\n",
       "    }\n",
       "</style>\n",
       "<table border=\"1\" class=\"dataframe\">\n",
       "  <thead>\n",
       "    <tr style=\"text-align: right;\">\n",
       "      <th></th>\n",
       "      <th>longitude</th>\n",
       "      <th>latitude</th>\n",
       "      <th>housing_median_age</th>\n",
       "      <th>total_rooms</th>\n",
       "      <th>total_bedrooms</th>\n",
       "      <th>population</th>\n",
       "      <th>households</th>\n",
       "      <th>median_income</th>\n",
       "      <th>median_house_value</th>\n",
       "    </tr>\n",
       "  </thead>\n",
       "  <tbody>\n",
       "    <tr>\n",
       "      <th>count</th>\n",
       "      <td>20640.000000</td>\n",
       "      <td>20640.000000</td>\n",
       "      <td>20640.000000</td>\n",
       "      <td>20640.000000</td>\n",
       "      <td>20433.000000</td>\n",
       "      <td>20640.000000</td>\n",
       "      <td>20640.000000</td>\n",
       "      <td>20640.000000</td>\n",
       "      <td>20640.000000</td>\n",
       "    </tr>\n",
       "    <tr>\n",
       "      <th>mean</th>\n",
       "      <td>-119.569704</td>\n",
       "      <td>35.631861</td>\n",
       "      <td>28.639486</td>\n",
       "      <td>2635.763081</td>\n",
       "      <td>537.870553</td>\n",
       "      <td>1425.476744</td>\n",
       "      <td>499.539680</td>\n",
       "      <td>3.870671</td>\n",
       "      <td>206855.816909</td>\n",
       "    </tr>\n",
       "    <tr>\n",
       "      <th>std</th>\n",
       "      <td>2.003532</td>\n",
       "      <td>2.135952</td>\n",
       "      <td>12.585558</td>\n",
       "      <td>2181.615252</td>\n",
       "      <td>421.385070</td>\n",
       "      <td>1132.462122</td>\n",
       "      <td>382.329753</td>\n",
       "      <td>1.899822</td>\n",
       "      <td>115395.615874</td>\n",
       "    </tr>\n",
       "    <tr>\n",
       "      <th>min</th>\n",
       "      <td>-124.350000</td>\n",
       "      <td>32.540000</td>\n",
       "      <td>1.000000</td>\n",
       "      <td>2.000000</td>\n",
       "      <td>1.000000</td>\n",
       "      <td>3.000000</td>\n",
       "      <td>1.000000</td>\n",
       "      <td>0.499900</td>\n",
       "      <td>14999.000000</td>\n",
       "    </tr>\n",
       "    <tr>\n",
       "      <th>25%</th>\n",
       "      <td>-121.800000</td>\n",
       "      <td>33.930000</td>\n",
       "      <td>18.000000</td>\n",
       "      <td>1447.750000</td>\n",
       "      <td>296.000000</td>\n",
       "      <td>787.000000</td>\n",
       "      <td>280.000000</td>\n",
       "      <td>2.563400</td>\n",
       "      <td>119600.000000</td>\n",
       "    </tr>\n",
       "    <tr>\n",
       "      <th>50%</th>\n",
       "      <td>-118.490000</td>\n",
       "      <td>34.260000</td>\n",
       "      <td>29.000000</td>\n",
       "      <td>2127.000000</td>\n",
       "      <td>435.000000</td>\n",
       "      <td>1166.000000</td>\n",
       "      <td>409.000000</td>\n",
       "      <td>3.534800</td>\n",
       "      <td>179700.000000</td>\n",
       "    </tr>\n",
       "    <tr>\n",
       "      <th>75%</th>\n",
       "      <td>-118.010000</td>\n",
       "      <td>37.710000</td>\n",
       "      <td>37.000000</td>\n",
       "      <td>3148.000000</td>\n",
       "      <td>647.000000</td>\n",
       "      <td>1725.000000</td>\n",
       "      <td>605.000000</td>\n",
       "      <td>4.743250</td>\n",
       "      <td>264725.000000</td>\n",
       "    </tr>\n",
       "    <tr>\n",
       "      <th>max</th>\n",
       "      <td>-114.310000</td>\n",
       "      <td>41.950000</td>\n",
       "      <td>52.000000</td>\n",
       "      <td>39320.000000</td>\n",
       "      <td>6445.000000</td>\n",
       "      <td>35682.000000</td>\n",
       "      <td>6082.000000</td>\n",
       "      <td>15.000100</td>\n",
       "      <td>500001.000000</td>\n",
       "    </tr>\n",
       "  </tbody>\n",
       "</table>\n",
       "</div>"
      ],
      "text/plain": [
       "          longitude      latitude  housing_median_age   total_rooms  \\\n",
       "count  20640.000000  20640.000000        20640.000000  20640.000000   \n",
       "mean    -119.569704     35.631861           28.639486   2635.763081   \n",
       "std        2.003532      2.135952           12.585558   2181.615252   \n",
       "min     -124.350000     32.540000            1.000000      2.000000   \n",
       "25%     -121.800000     33.930000           18.000000   1447.750000   \n",
       "50%     -118.490000     34.260000           29.000000   2127.000000   \n",
       "75%     -118.010000     37.710000           37.000000   3148.000000   \n",
       "max     -114.310000     41.950000           52.000000  39320.000000   \n",
       "\n",
       "       total_bedrooms    population    households  median_income  \\\n",
       "count    20433.000000  20640.000000  20640.000000   20640.000000   \n",
       "mean       537.870553   1425.476744    499.539680       3.870671   \n",
       "std        421.385070   1132.462122    382.329753       1.899822   \n",
       "min          1.000000      3.000000      1.000000       0.499900   \n",
       "25%        296.000000    787.000000    280.000000       2.563400   \n",
       "50%        435.000000   1166.000000    409.000000       3.534800   \n",
       "75%        647.000000   1725.000000    605.000000       4.743250   \n",
       "max       6445.000000  35682.000000   6082.000000      15.000100   \n",
       "\n",
       "       median_house_value  \n",
       "count        20640.000000  \n",
       "mean        206855.816909  \n",
       "std         115395.615874  \n",
       "min          14999.000000  \n",
       "25%         119600.000000  \n",
       "50%         179700.000000  \n",
       "75%         264725.000000  \n",
       "max         500001.000000  "
      ]
     },
     "execution_count": 57,
     "metadata": {},
     "output_type": "execute_result"
    }
   ],
   "source": [
    "# Statistical summary for Numerical data\n",
    "df.describe()"
   ]
  },
  {
   "cell_type": "code",
   "execution_count": 58,
   "id": "19c6e513",
   "metadata": {},
   "outputs": [
    {
     "data": {
      "text/plain": [
       "longitude               0\n",
       "latitude                0\n",
       "housing_median_age      0\n",
       "total_rooms             0\n",
       "total_bedrooms        207\n",
       "population              0\n",
       "households              0\n",
       "median_income           0\n",
       "median_house_value      0\n",
       "ocean_proximity         0\n",
       "dtype: int64"
      ]
     },
     "execution_count": 58,
     "metadata": {},
     "output_type": "execute_result"
    }
   ],
   "source": [
    "# To check whether there are null values in the  data set\n",
    "df.isnull().sum()"
   ]
  },
  {
   "cell_type": "markdown",
   "id": "42e89df2",
   "metadata": {},
   "source": [
    "From the above, we can notice that there are null values in the variable total_bedrooms i.e., 207."
   ]
  },
  {
   "cell_type": "code",
   "execution_count": 59,
   "id": "611dced5",
   "metadata": {},
   "outputs": [
    {
     "data": {
      "text/plain": [
       "0"
      ]
     },
     "execution_count": 59,
     "metadata": {},
     "output_type": "execute_result"
    }
   ],
   "source": [
    "# To check whether there are any duplicate values in the dataset\n",
    "df.duplicated().sum()"
   ]
  },
  {
   "cell_type": "markdown",
   "id": "23fb753c",
   "metadata": {},
   "source": [
    "From the above, we can notice that there are no null values in the dataset."
   ]
  },
  {
   "cell_type": "markdown",
   "id": "c189d5c7",
   "metadata": {},
   "source": [
    "### 1.What is the average median_income of the dataset and check the distribution of the data using appropriate plots? please explain the distribution of the plot."
   ]
  },
  {
   "cell_type": "code",
   "execution_count": 60,
   "id": "7350ae99",
   "metadata": {},
   "outputs": [
    {
     "data": {
      "text/plain": [
       "3.8706710029070246"
      ]
     },
     "execution_count": 60,
     "metadata": {},
     "output_type": "execute_result"
    }
   ],
   "source": [
    "df['median_income'].mean() #mean()function gives the mean of the values for the requested axis\n",
    "                           #mean gives the average values of a dataset."
   ]
  },
  {
   "cell_type": "markdown",
   "id": "814ac57a",
   "metadata": {},
   "source": [
    "From the above code it is to be noted that the average median_income is 3.8706 that is 3.9"
   ]
  },
  {
   "cell_type": "code",
   "execution_count": 61,
   "id": "da078e60",
   "metadata": {},
   "outputs": [
    {
     "data": {
      "image/png": "[encoded data removed]",
      "text/plain": [
       "<Figure size 1500x1500 with 9 Axes>"
      ]
     },
     "metadata": {},
     "output_type": "display_data"
    }
   ],
   "source": [
    "df.hist(bins=50,figsize=(15,15)) # Histogram is used to see the distribution of a numerical value\n",
    "plt.show()                       # Here, show() method is used to display the graph of histogram"
   ]
  },
  {
   "cell_type": "markdown",
   "id": "2db7e62b",
   "metadata": {},
   "source": [
    "From the above plot, it is to be noted that the outliers are present for housing_median_age and median_house_value.\n",
    "while total_rooms,total_bedrooms,population,households,median_income are of right skewed.\n",
    "while latitude and longitude are asymmetric i.e., highly skewed."
   ]
  },
  {
   "cell_type": "markdown",
   "id": "9379fcab",
   "metadata": {},
   "source": [
    "### 2. Draw an appropriate plot to see the distribution of housing_median_age and explain your observations."
   ]
  },
  {
   "cell_type": "code",
   "execution_count": 62,
   "id": "2e3a94cb",
   "metadata": {},
   "outputs": [
    {
     "data": {
      "image/png": "[encoded data removed]",
      "text/plain": [
       "<Figure size 640x480 with 1 Axes>"
      ]
     },
     "metadata": {},
     "output_type": "display_data"
    }
   ],
   "source": [
    "plt.hist(df[\"housing_median_age\"])  #Histogram is used to see the distribution of a numerical value.\n",
    "plt.title(\"housing_median_age- Histogram plot\")    # x-axis=housing_median_age,y-axis=Frequencies\n",
    "plt.xlabel(\"housing_median_age\")\n",
    "plt.ylabel(\"Frequencies\")\n",
    "plt.grid(False)         # Here, we use grid() method to display the gridlines \n",
    "plt.show()"
   ]
  },
  {
   "cell_type": "markdown",
   "id": "97f1ed71",
   "metadata": {},
   "source": [
    "From the above histogram plot we can come to the analysis that it is distributed symmetrically.\n"
   ]
  },
  {
   "cell_type": "markdown",
   "id": "bc26d696",
   "metadata": {},
   "source": [
    "we can know the skewness of the above plot by using: 3*(mean - median)/std"
   ]
  },
  {
   "cell_type": "code",
   "execution_count": 63,
   "id": "892bf030",
   "metadata": {},
   "outputs": [
    {
     "data": {
      "text/plain": [
       "28.639486434108527"
      ]
     },
     "execution_count": 63,
     "metadata": {},
     "output_type": "execute_result"
    }
   ],
   "source": [
    "df['housing_median_age'].mean() # calculating the mean of the housing_median_age varible"
   ]
  },
  {
   "cell_type": "code",
   "execution_count": 64,
   "id": "8795f9ff",
   "metadata": {},
   "outputs": [
    {
     "data": {
      "text/plain": [
       "29.0"
      ]
     },
     "execution_count": 64,
     "metadata": {},
     "output_type": "execute_result"
    }
   ],
   "source": [
    "df['housing_median_age'].median() # calculating the median of the housing_median_age variable"
   ]
  },
  {
   "cell_type": "code",
   "execution_count": 65,
   "id": "b5c56901",
   "metadata": {},
   "outputs": [
    {
     "data": {
      "text/plain": [
       "12.585557612111637"
      ]
     },
     "execution_count": 65,
     "metadata": {},
     "output_type": "execute_result"
    }
   ],
   "source": [
    "df['housing_median_age'].std() # calculating the standard deviation of the housing_median_age variable"
   ]
  },
  {
   "cell_type": "code",
   "execution_count": 66,
   "id": "af0d133a",
   "metadata": {},
   "outputs": [
    {
     "name": "stdout",
     "output_type": "stream",
     "text": [
      "-0.0882352941176473\n"
     ]
    }
   ],
   "source": [
    "skewed = 3 * (28.63 - 29)/12.58 # calculating the skewness of the housing_median_age by taking the mean,median and \n",
    "print(skewed)                   # standard deviation values from the above"
   ]
  },
  {
   "cell_type": "markdown",
   "id": "98ca70af",
   "metadata": {},
   "source": [
    "The skewness of the above plot is -0.08 which is in range of -0.5 to -0.1. From this it is to be considered that it is perfectly symmetrical.\n"
   ]
  },
  {
   "cell_type": "markdown",
   "id": "ec0d3463",
   "metadata": {},
   "source": [
    "Finally, from the visualization plot and the skewness it is to be noted that the housing_median_age is perfectly symmetrical."
   ]
  },
  {
   "cell_type": "markdown",
   "id": "e55a9730",
   "metadata": {},
   "source": [
    "### 3. Show with the help of visualization, how median_income and median_house_values are related ?"
   ]
  },
  {
   "cell_type": "code",
   "execution_count": 67,
   "id": "41cd09fc",
   "metadata": {},
   "outputs": [
    {
     "data": {
      "image/png": "[encoded data removed]",
      "text/plain": [
       "<Figure size 640x480 with 1 Axes>"
      ]
     },
     "metadata": {},
     "output_type": "display_data"
    }
   ],
   "source": [
    "sns.scatterplot(x = \"median_house_value\",y = \"median_income\",data = df)# Scatter plot gives a relation between two numerical\n",
    "plt.title(\"median_house_value and median_income relationship plot\")    # values\n",
    "plt.show()                                                             # x-axis = median_house_value and y-axis = median_income"
   ]
  },
  {
   "cell_type": "markdown",
   "id": "8900b4e2",
   "metadata": {},
   "source": [
    "From the above visualization it is to be analysed that with increase in median_house_value there is also increase in median_income.While, an outlier is present in the median_house_value. Therefore, median_house_value is directly proportional to median_income."
   ]
  },
  {
   "cell_type": "markdown",
   "id": "20bcb26c",
   "metadata": {},
   "source": [
    "plot between median_income vs median_house_values is directly proportional to each other as it has positive correlation."
   ]
  },
  {
   "cell_type": "markdown",
   "id": "363b2d64",
   "metadata": {},
   "source": [
    "### 4. Create a dataset by deleting the corresponding examples from the data set for which total_bedrooms are not available?"
   ]
  },
  {
   "cell_type": "code",
   "execution_count": 68,
   "id": "b3782efd",
   "metadata": {},
   "outputs": [
    {
     "data": {
      "text/html": [
       "<div>\n",
       "<style scoped>\n",
       "    .dataframe tbody tr th:only-of-type {\n",
       "        vertical-align: middle;\n",
       "    }\n",
       "\n",
       "    .dataframe tbody tr th {\n",
       "        vertical-align: top;\n",
       "    }\n",
       "\n",
       "    .dataframe thead th {\n",
       "        text-align: right;\n",
       "    }\n",
       "</style>\n",
       "<table border=\"1\" class=\"dataframe\">\n",
       "  <thead>\n",
       "    <tr style=\"text-align: right;\">\n",
       "      <th></th>\n",
       "      <th>longitude</th>\n",
       "      <th>latitude</th>\n",
       "      <th>housing_median_age</th>\n",
       "      <th>total_rooms</th>\n",
       "      <th>total_bedrooms</th>\n",
       "      <th>population</th>\n",
       "      <th>households</th>\n",
       "      <th>median_income</th>\n",
       "      <th>median_house_value</th>\n",
       "      <th>ocean_proximity</th>\n",
       "    </tr>\n",
       "  </thead>\n",
       "  <tbody>\n",
       "    <tr>\n",
       "      <th>290</th>\n",
       "      <td>-122.16</td>\n",
       "      <td>37.77</td>\n",
       "      <td>47</td>\n",
       "      <td>1256</td>\n",
       "      <td>NaN</td>\n",
       "      <td>570</td>\n",
       "      <td>218</td>\n",
       "      <td>4.3750</td>\n",
       "      <td>161900</td>\n",
       "      <td>NEAR BAY</td>\n",
       "    </tr>\n",
       "    <tr>\n",
       "      <th>341</th>\n",
       "      <td>-122.17</td>\n",
       "      <td>37.75</td>\n",
       "      <td>38</td>\n",
       "      <td>992</td>\n",
       "      <td>NaN</td>\n",
       "      <td>732</td>\n",
       "      <td>259</td>\n",
       "      <td>1.6196</td>\n",
       "      <td>85100</td>\n",
       "      <td>NEAR BAY</td>\n",
       "    </tr>\n",
       "    <tr>\n",
       "      <th>538</th>\n",
       "      <td>-122.28</td>\n",
       "      <td>37.78</td>\n",
       "      <td>29</td>\n",
       "      <td>5154</td>\n",
       "      <td>NaN</td>\n",
       "      <td>3741</td>\n",
       "      <td>1273</td>\n",
       "      <td>2.5762</td>\n",
       "      <td>173400</td>\n",
       "      <td>NEAR BAY</td>\n",
       "    </tr>\n",
       "    <tr>\n",
       "      <th>563</th>\n",
       "      <td>-122.24</td>\n",
       "      <td>37.75</td>\n",
       "      <td>45</td>\n",
       "      <td>891</td>\n",
       "      <td>NaN</td>\n",
       "      <td>384</td>\n",
       "      <td>146</td>\n",
       "      <td>4.9489</td>\n",
       "      <td>247100</td>\n",
       "      <td>NEAR BAY</td>\n",
       "    </tr>\n",
       "    <tr>\n",
       "      <th>696</th>\n",
       "      <td>-122.10</td>\n",
       "      <td>37.69</td>\n",
       "      <td>41</td>\n",
       "      <td>746</td>\n",
       "      <td>NaN</td>\n",
       "      <td>387</td>\n",
       "      <td>161</td>\n",
       "      <td>3.9063</td>\n",
       "      <td>178400</td>\n",
       "      <td>NEAR BAY</td>\n",
       "    </tr>\n",
       "    <tr>\n",
       "      <th>...</th>\n",
       "      <td>...</td>\n",
       "      <td>...</td>\n",
       "      <td>...</td>\n",
       "      <td>...</td>\n",
       "      <td>...</td>\n",
       "      <td>...</td>\n",
       "      <td>...</td>\n",
       "      <td>...</td>\n",
       "      <td>...</td>\n",
       "      <td>...</td>\n",
       "    </tr>\n",
       "    <tr>\n",
       "      <th>20267</th>\n",
       "      <td>-119.19</td>\n",
       "      <td>34.20</td>\n",
       "      <td>18</td>\n",
       "      <td>3620</td>\n",
       "      <td>NaN</td>\n",
       "      <td>3171</td>\n",
       "      <td>779</td>\n",
       "      <td>3.3409</td>\n",
       "      <td>220500</td>\n",
       "      <td>NEAR OCEAN</td>\n",
       "    </tr>\n",
       "    <tr>\n",
       "      <th>20268</th>\n",
       "      <td>-119.18</td>\n",
       "      <td>34.19</td>\n",
       "      <td>19</td>\n",
       "      <td>2393</td>\n",
       "      <td>NaN</td>\n",
       "      <td>1938</td>\n",
       "      <td>762</td>\n",
       "      <td>1.6953</td>\n",
       "      <td>167400</td>\n",
       "      <td>NEAR OCEAN</td>\n",
       "    </tr>\n",
       "    <tr>\n",
       "      <th>20372</th>\n",
       "      <td>-118.88</td>\n",
       "      <td>34.17</td>\n",
       "      <td>15</td>\n",
       "      <td>4260</td>\n",
       "      <td>NaN</td>\n",
       "      <td>1701</td>\n",
       "      <td>669</td>\n",
       "      <td>5.1033</td>\n",
       "      <td>410700</td>\n",
       "      <td>&lt;1H OCEAN</td>\n",
       "    </tr>\n",
       "    <tr>\n",
       "      <th>20460</th>\n",
       "      <td>-118.75</td>\n",
       "      <td>34.29</td>\n",
       "      <td>17</td>\n",
       "      <td>5512</td>\n",
       "      <td>NaN</td>\n",
       "      <td>2734</td>\n",
       "      <td>814</td>\n",
       "      <td>6.6073</td>\n",
       "      <td>258100</td>\n",
       "      <td>&lt;1H OCEAN</td>\n",
       "    </tr>\n",
       "    <tr>\n",
       "      <th>20484</th>\n",
       "      <td>-118.72</td>\n",
       "      <td>34.28</td>\n",
       "      <td>17</td>\n",
       "      <td>3051</td>\n",
       "      <td>NaN</td>\n",
       "      <td>1705</td>\n",
       "      <td>495</td>\n",
       "      <td>5.7376</td>\n",
       "      <td>218600</td>\n",
       "      <td>&lt;1H OCEAN</td>\n",
       "    </tr>\n",
       "  </tbody>\n",
       "</table>\n",
       "<p>207 rows × 10 columns</p>\n",
       "</div>"
      ],
      "text/plain": [
       "       longitude  latitude  housing_median_age  total_rooms  total_bedrooms  \\\n",
       "290      -122.16     37.77                  47         1256             NaN   \n",
       "341      -122.17     37.75                  38          992             NaN   \n",
       "538      -122.28     37.78                  29         5154             NaN   \n",
       "563      -122.24     37.75                  45          891             NaN   \n",
       "696      -122.10     37.69                  41          746             NaN   \n",
       "...          ...       ...                 ...          ...             ...   \n",
       "20267    -119.19     34.20                  18         3620             NaN   \n",
       "20268    -119.18     34.19                  19         2393             NaN   \n",
       "20372    -118.88     34.17                  15         4260             NaN   \n",
       "20460    -118.75     34.29                  17         5512             NaN   \n",
       "20484    -118.72     34.28                  17         3051             NaN   \n",
       "\n",
       "       population  households  median_income  median_house_value  \\\n",
       "290           570         218         4.3750              161900   \n",
       "341           732         259         1.6196               85100   \n",
       "538          3741        1273         2.5762              173400   \n",
       "563           384         146         4.9489              247100   \n",
       "696           387         161         3.9063              178400   \n",
       "...           ...         ...            ...                 ...   \n",
       "20267        3171         779         3.3409              220500   \n",
       "20268        1938         762         1.6953              167400   \n",
       "20372        1701         669         5.1033              410700   \n",
       "20460        2734         814         6.6073              258100   \n",
       "20484        1705         495         5.7376              218600   \n",
       "\n",
       "      ocean_proximity  \n",
       "290          NEAR BAY  \n",
       "341          NEAR BAY  \n",
       "538          NEAR BAY  \n",
       "563          NEAR BAY  \n",
       "696          NEAR BAY  \n",
       "...               ...  \n",
       "20267      NEAR OCEAN  \n",
       "20268      NEAR OCEAN  \n",
       "20372       <1H OCEAN  \n",
       "20460       <1H OCEAN  \n",
       "20484       <1H OCEAN  \n",
       "\n",
       "[207 rows x 10 columns]"
      ]
     },
     "execution_count": 68,
     "metadata": {},
     "output_type": "execute_result"
    }
   ],
   "source": [
    "df[df.isnull().any(axis=1)] # The isnull() returns a dataframe object where are values are returned with a boolean value True \n",
    "                            # for NULL values and False for Non null values. # axis = 1 means column\n",
    "                            # Here NULL values are denoted by NaN values."
   ]
  },
  {
   "cell_type": "markdown",
   "id": "f45c0315",
   "metadata": {},
   "source": [
    "In the above code missing values are identified by the isnull() method. The missing values are identified in the column 'total_bedrooms' with value denoted by NaN."
   ]
  },
  {
   "cell_type": "code",
   "execution_count": 69,
   "id": "a7ab9281",
   "metadata": {},
   "outputs": [
    {
     "data": {
      "text/html": [
       "<div>\n",
       "<style scoped>\n",
       "    .dataframe tbody tr th:only-of-type {\n",
       "        vertical-align: middle;\n",
       "    }\n",
       "\n",
       "    .dataframe tbody tr th {\n",
       "        vertical-align: top;\n",
       "    }\n",
       "\n",
       "    .dataframe thead th {\n",
       "        text-align: right;\n",
       "    }\n",
       "</style>\n",
       "<table border=\"1\" class=\"dataframe\">\n",
       "  <thead>\n",
       "    <tr style=\"text-align: right;\">\n",
       "      <th></th>\n",
       "      <th>longitude</th>\n",
       "      <th>latitude</th>\n",
       "      <th>housing_median_age</th>\n",
       "      <th>total_rooms</th>\n",
       "      <th>total_bedrooms</th>\n",
       "      <th>population</th>\n",
       "      <th>households</th>\n",
       "      <th>median_income</th>\n",
       "      <th>median_house_value</th>\n",
       "      <th>ocean_proximity</th>\n",
       "    </tr>\n",
       "  </thead>\n",
       "  <tbody>\n",
       "    <tr>\n",
       "      <th>0</th>\n",
       "      <td>-122.23</td>\n",
       "      <td>37.88</td>\n",
       "      <td>41</td>\n",
       "      <td>880</td>\n",
       "      <td>129.0</td>\n",
       "      <td>322</td>\n",
       "      <td>126</td>\n",
       "      <td>8.3252</td>\n",
       "      <td>452600</td>\n",
       "      <td>NEAR BAY</td>\n",
       "    </tr>\n",
       "    <tr>\n",
       "      <th>1</th>\n",
       "      <td>-122.22</td>\n",
       "      <td>37.86</td>\n",
       "      <td>21</td>\n",
       "      <td>7099</td>\n",
       "      <td>1106.0</td>\n",
       "      <td>2401</td>\n",
       "      <td>1138</td>\n",
       "      <td>8.3014</td>\n",
       "      <td>358500</td>\n",
       "      <td>NEAR BAY</td>\n",
       "    </tr>\n",
       "    <tr>\n",
       "      <th>2</th>\n",
       "      <td>-122.24</td>\n",
       "      <td>37.85</td>\n",
       "      <td>52</td>\n",
       "      <td>1467</td>\n",
       "      <td>190.0</td>\n",
       "      <td>496</td>\n",
       "      <td>177</td>\n",
       "      <td>7.2574</td>\n",
       "      <td>352100</td>\n",
       "      <td>NEAR BAY</td>\n",
       "    </tr>\n",
       "    <tr>\n",
       "      <th>3</th>\n",
       "      <td>-122.25</td>\n",
       "      <td>37.85</td>\n",
       "      <td>52</td>\n",
       "      <td>1274</td>\n",
       "      <td>235.0</td>\n",
       "      <td>558</td>\n",
       "      <td>219</td>\n",
       "      <td>5.6431</td>\n",
       "      <td>341300</td>\n",
       "      <td>NEAR BAY</td>\n",
       "    </tr>\n",
       "    <tr>\n",
       "      <th>4</th>\n",
       "      <td>-122.25</td>\n",
       "      <td>37.85</td>\n",
       "      <td>52</td>\n",
       "      <td>1627</td>\n",
       "      <td>280.0</td>\n",
       "      <td>565</td>\n",
       "      <td>259</td>\n",
       "      <td>3.8462</td>\n",
       "      <td>342200</td>\n",
       "      <td>NEAR BAY</td>\n",
       "    </tr>\n",
       "    <tr>\n",
       "      <th>...</th>\n",
       "      <td>...</td>\n",
       "      <td>...</td>\n",
       "      <td>...</td>\n",
       "      <td>...</td>\n",
       "      <td>...</td>\n",
       "      <td>...</td>\n",
       "      <td>...</td>\n",
       "      <td>...</td>\n",
       "      <td>...</td>\n",
       "      <td>...</td>\n",
       "    </tr>\n",
       "    <tr>\n",
       "      <th>20635</th>\n",
       "      <td>-121.09</td>\n",
       "      <td>39.48</td>\n",
       "      <td>25</td>\n",
       "      <td>1665</td>\n",
       "      <td>374.0</td>\n",
       "      <td>845</td>\n",
       "      <td>330</td>\n",
       "      <td>1.5603</td>\n",
       "      <td>78100</td>\n",
       "      <td>INLAND</td>\n",
       "    </tr>\n",
       "    <tr>\n",
       "      <th>20636</th>\n",
       "      <td>-121.21</td>\n",
       "      <td>39.49</td>\n",
       "      <td>18</td>\n",
       "      <td>697</td>\n",
       "      <td>150.0</td>\n",
       "      <td>356</td>\n",
       "      <td>114</td>\n",
       "      <td>2.5568</td>\n",
       "      <td>77100</td>\n",
       "      <td>INLAND</td>\n",
       "    </tr>\n",
       "    <tr>\n",
       "      <th>20637</th>\n",
       "      <td>-121.22</td>\n",
       "      <td>39.43</td>\n",
       "      <td>17</td>\n",
       "      <td>2254</td>\n",
       "      <td>485.0</td>\n",
       "      <td>1007</td>\n",
       "      <td>433</td>\n",
       "      <td>1.7000</td>\n",
       "      <td>92300</td>\n",
       "      <td>INLAND</td>\n",
       "    </tr>\n",
       "    <tr>\n",
       "      <th>20638</th>\n",
       "      <td>-121.32</td>\n",
       "      <td>39.43</td>\n",
       "      <td>18</td>\n",
       "      <td>1860</td>\n",
       "      <td>409.0</td>\n",
       "      <td>741</td>\n",
       "      <td>349</td>\n",
       "      <td>1.8672</td>\n",
       "      <td>84700</td>\n",
       "      <td>INLAND</td>\n",
       "    </tr>\n",
       "    <tr>\n",
       "      <th>20639</th>\n",
       "      <td>-121.24</td>\n",
       "      <td>39.37</td>\n",
       "      <td>16</td>\n",
       "      <td>2785</td>\n",
       "      <td>616.0</td>\n",
       "      <td>1387</td>\n",
       "      <td>530</td>\n",
       "      <td>2.3886</td>\n",
       "      <td>89400</td>\n",
       "      <td>INLAND</td>\n",
       "    </tr>\n",
       "  </tbody>\n",
       "</table>\n",
       "<p>20433 rows × 10 columns</p>\n",
       "</div>"
      ],
      "text/plain": [
       "       longitude  latitude  housing_median_age  total_rooms  total_bedrooms  \\\n",
       "0        -122.23     37.88                  41          880           129.0   \n",
       "1        -122.22     37.86                  21         7099          1106.0   \n",
       "2        -122.24     37.85                  52         1467           190.0   \n",
       "3        -122.25     37.85                  52         1274           235.0   \n",
       "4        -122.25     37.85                  52         1627           280.0   \n",
       "...          ...       ...                 ...          ...             ...   \n",
       "20635    -121.09     39.48                  25         1665           374.0   \n",
       "20636    -121.21     39.49                  18          697           150.0   \n",
       "20637    -121.22     39.43                  17         2254           485.0   \n",
       "20638    -121.32     39.43                  18         1860           409.0   \n",
       "20639    -121.24     39.37                  16         2785           616.0   \n",
       "\n",
       "       population  households  median_income  median_house_value  \\\n",
       "0             322         126         8.3252              452600   \n",
       "1            2401        1138         8.3014              358500   \n",
       "2             496         177         7.2574              352100   \n",
       "3             558         219         5.6431              341300   \n",
       "4             565         259         3.8462              342200   \n",
       "...           ...         ...            ...                 ...   \n",
       "20635         845         330         1.5603               78100   \n",
       "20636         356         114         2.5568               77100   \n",
       "20637        1007         433         1.7000               92300   \n",
       "20638         741         349         1.8672               84700   \n",
       "20639        1387         530         2.3886               89400   \n",
       "\n",
       "      ocean_proximity  \n",
       "0            NEAR BAY  \n",
       "1            NEAR BAY  \n",
       "2            NEAR BAY  \n",
       "3            NEAR BAY  \n",
       "4            NEAR BAY  \n",
       "...               ...  \n",
       "20635          INLAND  \n",
       "20636          INLAND  \n",
       "20637          INLAND  \n",
       "20638          INLAND  \n",
       "20639          INLAND  \n",
       "\n",
       "[20433 rows x 10 columns]"
      ]
     },
     "execution_count": 69,
     "metadata": {},
     "output_type": "execute_result"
    }
   ],
   "source": [
    "new_data = df.dropna(subset = \"total_bedrooms\") # Here, dropna() method is used to analyse and drop rows/columns with null \n",
    "new_data                                        # values with different ways. "
   ]
  },
  {
   "cell_type": "markdown",
   "id": "d7fdd0b5",
   "metadata": {},
   "source": [
    "In the above code, the missing values are dropped from the 'total_bedrooms' column by using dropna() method."
   ]
  },
  {
   "cell_type": "markdown",
   "id": "2a17b643",
   "metadata": {},
   "source": [
    "### 5. Create a data set by filling the missing data with mean_values of the total_bedrooms in the original data set."
   ]
  },
  {
   "cell_type": "code",
   "execution_count": 70,
   "id": "ccacd58b",
   "metadata": {},
   "outputs": [
    {
     "name": "stdout",
     "output_type": "stream",
     "text": [
      "The mean of the total_bedrooms is : 537.8705525375639\n"
     ]
    },
    {
     "data": {
      "text/html": [
       "<div>\n",
       "<style scoped>\n",
       "    .dataframe tbody tr th:only-of-type {\n",
       "        vertical-align: middle;\n",
       "    }\n",
       "\n",
       "    .dataframe tbody tr th {\n",
       "        vertical-align: top;\n",
       "    }\n",
       "\n",
       "    .dataframe thead th {\n",
       "        text-align: right;\n",
       "    }\n",
       "</style>\n",
       "<table border=\"1\" class=\"dataframe\">\n",
       "  <thead>\n",
       "    <tr style=\"text-align: right;\">\n",
       "      <th></th>\n",
       "      <th>longitude</th>\n",
       "      <th>latitude</th>\n",
       "      <th>housing_median_age</th>\n",
       "      <th>total_rooms</th>\n",
       "      <th>total_bedrooms</th>\n",
       "      <th>population</th>\n",
       "      <th>households</th>\n",
       "      <th>median_income</th>\n",
       "      <th>median_house_value</th>\n",
       "      <th>ocean_proximity</th>\n",
       "    </tr>\n",
       "  </thead>\n",
       "  <tbody>\n",
       "    <tr>\n",
       "      <th>0</th>\n",
       "      <td>-122.23</td>\n",
       "      <td>37.88</td>\n",
       "      <td>41</td>\n",
       "      <td>880</td>\n",
       "      <td>129.0</td>\n",
       "      <td>322</td>\n",
       "      <td>126</td>\n",
       "      <td>8.3252</td>\n",
       "      <td>452600</td>\n",
       "      <td>NEAR BAY</td>\n",
       "    </tr>\n",
       "    <tr>\n",
       "      <th>1</th>\n",
       "      <td>-122.22</td>\n",
       "      <td>37.86</td>\n",
       "      <td>21</td>\n",
       "      <td>7099</td>\n",
       "      <td>1106.0</td>\n",
       "      <td>2401</td>\n",
       "      <td>1138</td>\n",
       "      <td>8.3014</td>\n",
       "      <td>358500</td>\n",
       "      <td>NEAR BAY</td>\n",
       "    </tr>\n",
       "    <tr>\n",
       "      <th>2</th>\n",
       "      <td>-122.24</td>\n",
       "      <td>37.85</td>\n",
       "      <td>52</td>\n",
       "      <td>1467</td>\n",
       "      <td>190.0</td>\n",
       "      <td>496</td>\n",
       "      <td>177</td>\n",
       "      <td>7.2574</td>\n",
       "      <td>352100</td>\n",
       "      <td>NEAR BAY</td>\n",
       "    </tr>\n",
       "    <tr>\n",
       "      <th>3</th>\n",
       "      <td>-122.25</td>\n",
       "      <td>37.85</td>\n",
       "      <td>52</td>\n",
       "      <td>1274</td>\n",
       "      <td>235.0</td>\n",
       "      <td>558</td>\n",
       "      <td>219</td>\n",
       "      <td>5.6431</td>\n",
       "      <td>341300</td>\n",
       "      <td>NEAR BAY</td>\n",
       "    </tr>\n",
       "    <tr>\n",
       "      <th>4</th>\n",
       "      <td>-122.25</td>\n",
       "      <td>37.85</td>\n",
       "      <td>52</td>\n",
       "      <td>1627</td>\n",
       "      <td>280.0</td>\n",
       "      <td>565</td>\n",
       "      <td>259</td>\n",
       "      <td>3.8462</td>\n",
       "      <td>342200</td>\n",
       "      <td>NEAR BAY</td>\n",
       "    </tr>\n",
       "    <tr>\n",
       "      <th>...</th>\n",
       "      <td>...</td>\n",
       "      <td>...</td>\n",
       "      <td>...</td>\n",
       "      <td>...</td>\n",
       "      <td>...</td>\n",
       "      <td>...</td>\n",
       "      <td>...</td>\n",
       "      <td>...</td>\n",
       "      <td>...</td>\n",
       "      <td>...</td>\n",
       "    </tr>\n",
       "    <tr>\n",
       "      <th>20635</th>\n",
       "      <td>-121.09</td>\n",
       "      <td>39.48</td>\n",
       "      <td>25</td>\n",
       "      <td>1665</td>\n",
       "      <td>374.0</td>\n",
       "      <td>845</td>\n",
       "      <td>330</td>\n",
       "      <td>1.5603</td>\n",
       "      <td>78100</td>\n",
       "      <td>INLAND</td>\n",
       "    </tr>\n",
       "    <tr>\n",
       "      <th>20636</th>\n",
       "      <td>-121.21</td>\n",
       "      <td>39.49</td>\n",
       "      <td>18</td>\n",
       "      <td>697</td>\n",
       "      <td>150.0</td>\n",
       "      <td>356</td>\n",
       "      <td>114</td>\n",
       "      <td>2.5568</td>\n",
       "      <td>77100</td>\n",
       "      <td>INLAND</td>\n",
       "    </tr>\n",
       "    <tr>\n",
       "      <th>20637</th>\n",
       "      <td>-121.22</td>\n",
       "      <td>39.43</td>\n",
       "      <td>17</td>\n",
       "      <td>2254</td>\n",
       "      <td>485.0</td>\n",
       "      <td>1007</td>\n",
       "      <td>433</td>\n",
       "      <td>1.7000</td>\n",
       "      <td>92300</td>\n",
       "      <td>INLAND</td>\n",
       "    </tr>\n",
       "    <tr>\n",
       "      <th>20638</th>\n",
       "      <td>-121.32</td>\n",
       "      <td>39.43</td>\n",
       "      <td>18</td>\n",
       "      <td>1860</td>\n",
       "      <td>409.0</td>\n",
       "      <td>741</td>\n",
       "      <td>349</td>\n",
       "      <td>1.8672</td>\n",
       "      <td>84700</td>\n",
       "      <td>INLAND</td>\n",
       "    </tr>\n",
       "    <tr>\n",
       "      <th>20639</th>\n",
       "      <td>-121.24</td>\n",
       "      <td>39.37</td>\n",
       "      <td>16</td>\n",
       "      <td>2785</td>\n",
       "      <td>616.0</td>\n",
       "      <td>1387</td>\n",
       "      <td>530</td>\n",
       "      <td>2.3886</td>\n",
       "      <td>89400</td>\n",
       "      <td>INLAND</td>\n",
       "    </tr>\n",
       "  </tbody>\n",
       "</table>\n",
       "<p>20640 rows × 10 columns</p>\n",
       "</div>"
      ],
      "text/plain": [
       "       longitude  latitude  housing_median_age  total_rooms  total_bedrooms  \\\n",
       "0        -122.23     37.88                  41          880           129.0   \n",
       "1        -122.22     37.86                  21         7099          1106.0   \n",
       "2        -122.24     37.85                  52         1467           190.0   \n",
       "3        -122.25     37.85                  52         1274           235.0   \n",
       "4        -122.25     37.85                  52         1627           280.0   \n",
       "...          ...       ...                 ...          ...             ...   \n",
       "20635    -121.09     39.48                  25         1665           374.0   \n",
       "20636    -121.21     39.49                  18          697           150.0   \n",
       "20637    -121.22     39.43                  17         2254           485.0   \n",
       "20638    -121.32     39.43                  18         1860           409.0   \n",
       "20639    -121.24     39.37                  16         2785           616.0   \n",
       "\n",
       "       population  households  median_income  median_house_value  \\\n",
       "0             322         126         8.3252              452600   \n",
       "1            2401        1138         8.3014              358500   \n",
       "2             496         177         7.2574              352100   \n",
       "3             558         219         5.6431              341300   \n",
       "4             565         259         3.8462              342200   \n",
       "...           ...         ...            ...                 ...   \n",
       "20635         845         330         1.5603               78100   \n",
       "20636         356         114         2.5568               77100   \n",
       "20637        1007         433         1.7000               92300   \n",
       "20638         741         349         1.8672               84700   \n",
       "20639        1387         530         2.3886               89400   \n",
       "\n",
       "      ocean_proximity  \n",
       "0            NEAR BAY  \n",
       "1            NEAR BAY  \n",
       "2            NEAR BAY  \n",
       "3            NEAR BAY  \n",
       "4            NEAR BAY  \n",
       "...               ...  \n",
       "20635          INLAND  \n",
       "20636          INLAND  \n",
       "20637          INLAND  \n",
       "20638          INLAND  \n",
       "20639          INLAND  \n",
       "\n",
       "[20640 rows x 10 columns]"
      ]
     },
     "execution_count": 70,
     "metadata": {},
     "output_type": "execute_result"
    }
   ],
   "source": [
    "df['total_bedrooms'] = df['total_bedrooms'].fillna(df['total_bedrooms'].mean()) # Here, we are filling the missing values in \n",
    "                                                                                # the original dataset in the column \n",
    "                                                                                # 'total_bedrooms' where null values are present\n",
    "                                                                                #  by using fillna() method.    \n",
    "x_mean = df['total_bedrooms'].mean()\n",
    "print(f\"The mean of the total_bedrooms is : {x_mean}\") # Here, I want to show the mean of the variable 'total_bedrooms' which \n",
    "df                                                     # I used to replace the null values in the 'total_bedrooms'. "
   ]
  },
  {
   "cell_type": "markdown",
   "id": "c1ecda37",
   "metadata": {},
   "source": [
    "In the above code, a new dataset has been created where the missing values in the 'total_bedrooms' which are denoted by NaN are replaced with the mean value of total_bedrooms."
   ]
  },
  {
   "cell_type": "markdown",
   "id": "2505df15",
   "metadata": {},
   "source": [
    "For eg:row no.290,341,538, 563, 696 and other rows with the missing values are replaced with the mean value of 'total_bedrooms' i.e.,537.8705525375639,respectively."
   ]
  },
  {
   "cell_type": "markdown",
   "id": "f61a5549",
   "metadata": {},
   "source": [
    "### 6. Write a programming construct(create a user defined function) to calculate the median value of the data set whereever required?"
   ]
  },
  {
   "cell_type": "code",
   "execution_count": 71,
   "id": "ef650ae6",
   "metadata": {},
   "outputs": [
    {
     "data": {
      "text/html": [
       "<div>\n",
       "<style scoped>\n",
       "    .dataframe tbody tr th:only-of-type {\n",
       "        vertical-align: middle;\n",
       "    }\n",
       "\n",
       "    .dataframe tbody tr th {\n",
       "        vertical-align: top;\n",
       "    }\n",
       "\n",
       "    .dataframe thead th {\n",
       "        text-align: right;\n",
       "    }\n",
       "</style>\n",
       "<table border=\"1\" class=\"dataframe\">\n",
       "  <thead>\n",
       "    <tr style=\"text-align: right;\">\n",
       "      <th></th>\n",
       "      <th>longitude</th>\n",
       "      <th>latitude</th>\n",
       "      <th>housing_median_age</th>\n",
       "      <th>total_rooms</th>\n",
       "      <th>total_bedrooms</th>\n",
       "      <th>population</th>\n",
       "      <th>households</th>\n",
       "      <th>median_income</th>\n",
       "      <th>median_house_value</th>\n",
       "      <th>ocean_proximity</th>\n",
       "    </tr>\n",
       "  </thead>\n",
       "  <tbody>\n",
       "    <tr>\n",
       "      <th>0</th>\n",
       "      <td>-122.23</td>\n",
       "      <td>37.88</td>\n",
       "      <td>41</td>\n",
       "      <td>880</td>\n",
       "      <td>129.0</td>\n",
       "      <td>322</td>\n",
       "      <td>126</td>\n",
       "      <td>8.3252</td>\n",
       "      <td>452600</td>\n",
       "      <td>NEAR BAY</td>\n",
       "    </tr>\n",
       "    <tr>\n",
       "      <th>1</th>\n",
       "      <td>-122.22</td>\n",
       "      <td>37.86</td>\n",
       "      <td>21</td>\n",
       "      <td>7099</td>\n",
       "      <td>1106.0</td>\n",
       "      <td>2401</td>\n",
       "      <td>1138</td>\n",
       "      <td>8.3014</td>\n",
       "      <td>358500</td>\n",
       "      <td>NEAR BAY</td>\n",
       "    </tr>\n",
       "    <tr>\n",
       "      <th>2</th>\n",
       "      <td>-122.24</td>\n",
       "      <td>37.85</td>\n",
       "      <td>52</td>\n",
       "      <td>1467</td>\n",
       "      <td>190.0</td>\n",
       "      <td>496</td>\n",
       "      <td>177</td>\n",
       "      <td>7.2574</td>\n",
       "      <td>352100</td>\n",
       "      <td>NEAR BAY</td>\n",
       "    </tr>\n",
       "    <tr>\n",
       "      <th>3</th>\n",
       "      <td>-122.25</td>\n",
       "      <td>37.85</td>\n",
       "      <td>52</td>\n",
       "      <td>1274</td>\n",
       "      <td>235.0</td>\n",
       "      <td>558</td>\n",
       "      <td>219</td>\n",
       "      <td>5.6431</td>\n",
       "      <td>341300</td>\n",
       "      <td>NEAR BAY</td>\n",
       "    </tr>\n",
       "    <tr>\n",
       "      <th>4</th>\n",
       "      <td>-122.25</td>\n",
       "      <td>37.85</td>\n",
       "      <td>52</td>\n",
       "      <td>1627</td>\n",
       "      <td>280.0</td>\n",
       "      <td>565</td>\n",
       "      <td>259</td>\n",
       "      <td>3.8462</td>\n",
       "      <td>342200</td>\n",
       "      <td>NEAR BAY</td>\n",
       "    </tr>\n",
       "  </tbody>\n",
       "</table>\n",
       "</div>"
      ],
      "text/plain": [
       "   longitude  latitude  housing_median_age  total_rooms  total_bedrooms  \\\n",
       "0    -122.23     37.88                  41          880           129.0   \n",
       "1    -122.22     37.86                  21         7099          1106.0   \n",
       "2    -122.24     37.85                  52         1467           190.0   \n",
       "3    -122.25     37.85                  52         1274           235.0   \n",
       "4    -122.25     37.85                  52         1627           280.0   \n",
       "\n",
       "   population  households  median_income  median_house_value ocean_proximity  \n",
       "0         322         126         8.3252              452600        NEAR BAY  \n",
       "1        2401        1138         8.3014              358500        NEAR BAY  \n",
       "2         496         177         7.2574              352100        NEAR BAY  \n",
       "3         558         219         5.6431              341300        NEAR BAY  \n",
       "4         565         259         3.8462              342200        NEAR BAY  "
      ]
     },
     "execution_count": 71,
     "metadata": {},
     "output_type": "execute_result"
    }
   ],
   "source": [
    "df.head() #The head() returns the first 5 rows for the object based on position."
   ]
  },
  {
   "cell_type": "markdown",
   "id": "8a29c91e",
   "metadata": {},
   "source": [
    "Median() : Basically it is defined as the 50th percentile of the set of measurements, when observed measurements are ranked from smallest to highest. It is not sensitive to outliers. commonly used by Discrete and Continuous data."
   ]
  },
  {
   "cell_type": "markdown",
   "id": "9338f5c4",
   "metadata": {},
   "source": [
    "A point to be noted that median() can be calculated for Discrete and Continuous data."
   ]
  },
  {
   "cell_type": "code",
   "execution_count": 72,
   "id": "9d6c56f5",
   "metadata": {},
   "outputs": [],
   "source": [
    "# Creating a user defined function for finding the median as mentioned in the above question\n",
    "def median(data):             # Here, median function is created and it takes data set as input\n",
    "    sorted_data = sorted(data) # Here, it sorts the given data set \n",
    "    data_len = len(sorted_data)  # Here, the length of the dataset is taken                            \n",
    "    middle = (data_len - 1) // 2 # Here, it checks whether the dataset is odd/even in length\n",
    "    if middle % 2 == 0:          # Here, If the dataset is odd in length, the function picks the mid-value and returns it.\n",
    "        return sorted_data[middle]\n",
    "    else:\n",
    "        return (sorted_data[middle] + sorted_data[middle + 1]) / 2 # Here, if the dataset is even the function picks the two mid\n",
    "                                                                   # values, calculates the average and returns the result."
   ]
  },
  {
   "cell_type": "code",
   "execution_count": 73,
   "id": "30b24903",
   "metadata": {},
   "outputs": [
    {
     "name": "stdout",
     "output_type": "stream",
     "text": [
      "The median() value of the variable longitude is: -118.49\n"
     ]
    }
   ],
   "source": [
    "long_median = median(df[\"longitude\"]) # Here, median function() gives the 50th percentile of the variable \"longitude\" \n",
    "print(f\"The median() value of the variable longitude is: {long_median}\") # based on all observations in longitude."
   ]
  },
  {
   "cell_type": "code",
   "execution_count": 74,
   "id": "28df3f4e",
   "metadata": {},
   "outputs": [
    {
     "name": "stdout",
     "output_type": "stream",
     "text": [
      "The median() value of the variable latitude is: 34.26\n"
     ]
    }
   ],
   "source": [
    "lat_median = median(df[\"latitude\"]) #Here, median function() gives the 50th percentile of the variable \"latitude\" based on all \n",
    "print(f\"The median() value of the variable latitude is: {lat_median}\") # observations in latitude."
   ]
  },
  {
   "cell_type": "code",
   "execution_count": 75,
   "id": "349f6cfd",
   "metadata": {},
   "outputs": [
    {
     "name": "stdout",
     "output_type": "stream",
     "text": [
      "The median() value of the variable housing_median_age is: 29.0\n"
     ]
    }
   ],
   "source": [
    "house_median = median(df[\"housing_median_age\"]) #Here, median function() gives the 50th percentile of the variable  \n",
    "print(f\"The median() value of the variable housing_median_age is: {house_median}\") # \"housing_median_age\" based on all \n",
    "                                                                                   # observations in housing_median_age."
   ]
  },
  {
   "cell_type": "code",
   "execution_count": 76,
   "id": "32644275",
   "metadata": {},
   "outputs": [
    {
     "name": "stdout",
     "output_type": "stream",
     "text": [
      "The median() value of the variable total_rooms is: 2127.0\n"
     ]
    }
   ],
   "source": [
    "rooms_median = median(df[\"total_rooms\"]) #Here, median function() gives the 50th percentile of the variable  \n",
    "print(f\"The median() value of the variable total_rooms is: {rooms_median}\") # \"total_rooms\" based on all \n",
    "                                                                                   # observations in total_rooms."
   ]
  },
  {
   "cell_type": "code",
   "execution_count": 77,
   "id": "fdd15528",
   "metadata": {},
   "outputs": [
    {
     "name": "stdout",
     "output_type": "stream",
     "text": [
      "The median() value of the variable total_bedrooms is: 438.0\n"
     ]
    }
   ],
   "source": [
    "bed_median = median(df[\"total_bedrooms\"]) #Here, median function() gives the 50th percentile of the variable  \n",
    "print(f\"The median() value of the variable total_bedrooms is: {bed_median}\") # \"total_bedrooms\" based on all \n",
    "                                                                                   # observations in total_bedrooms."
   ]
  },
  {
   "cell_type": "code",
   "execution_count": 78,
   "id": "8f6bd7a7",
   "metadata": {},
   "outputs": [
    {
     "name": "stdout",
     "output_type": "stream",
     "text": [
      "The median() value of the variable population is: 1166.0\n"
     ]
    }
   ],
   "source": [
    "pop_median = median(df[\"population\"]) #Here, median function() gives the 50th percentile of the variable  \n",
    "print(f\"The median() value of the variable population is: {pop_median}\") # \"population\" based on all \n",
    "                                                                                   # observations in population."
   ]
  },
  {
   "cell_type": "code",
   "execution_count": 79,
   "id": "3370a5cf",
   "metadata": {},
   "outputs": [
    {
     "name": "stdout",
     "output_type": "stream",
     "text": [
      "The median() value of the variable households is: 409.0\n"
     ]
    }
   ],
   "source": [
    "holds_median = median(df[\"households\"]) # Here, median function() gives the 50th percentile of the variable  \n",
    "print(f\"The median() value of the variable households is: {holds_median}\") # \"households\" based on all \n",
    "                                                                           # observations in households."
   ]
  },
  {
   "cell_type": "code",
   "execution_count": 80,
   "id": "21c37706",
   "metadata": {},
   "outputs": [
    {
     "name": "stdout",
     "output_type": "stream",
     "text": [
      "The median() value of the variable income_median is: 3.5347999999999997\n"
     ]
    }
   ],
   "source": [
    "income_median = median(df[\"median_income\"]) #Here, median function() gives the 50th percentile of the variable  \n",
    "print(f\"The median() value of the variable income_median is: {income_median}\") # \"median_income\" based on all \n",
    "                                                                                   # observations in median_income."
   ]
  },
  {
   "cell_type": "code",
   "execution_count": 81,
   "id": "ce3f7586",
   "metadata": {},
   "outputs": [
    {
     "name": "stdout",
     "output_type": "stream",
     "text": [
      "The median() value of the variable median_house_value is: 179700.0\n"
     ]
    }
   ],
   "source": [
    "value_median = median(df[\"median_house_value\"]) #Here, median function() gives the 50th percentile of the variable  \n",
    "print(f\"The median() value of the variable median_house_value is: {value_median}\") # \"median_house_value\" based on all \n",
    "                                                                                   # observations in median_house_value."
   ]
  },
  {
   "cell_type": "markdown",
   "id": "94c5da45",
   "metadata": {},
   "source": [
    "### 7. Plot latitude vs longitude and explain your observations."
   ]
  },
  {
   "cell_type": "code",
   "execution_count": 82,
   "id": "084df6d5",
   "metadata": {},
   "outputs": [
    {
     "data": {
      "image/png": "[encoded data removed]",
      "text/plain": [
       "<Figure size 640x480 with 1 Axes>"
      ]
     },
     "metadata": {},
     "output_type": "display_data"
    }
   ],
   "source": [
    "sns.scatterplot(x = 'latitude', y = 'longitude', data = df) # Here, I used the scatter plot present in seaborn library to find \n",
    "plt.title(\"latitude vs longitude plot\")                  # the relationship between two varibles i.e., latitude and longitude\n",
    "plt.show()                                                  # x-axis = \"latitude\" and y-axis = \"longitude\""
   ]
  },
  {
   "cell_type": "markdown",
   "id": "8212a850",
   "metadata": {},
   "source": [
    "From the above plot,it is to be noted that with an decrease in longitude,latitude is increased.From this point of view,it is to be known that latitude and longitude are not dependent on each other.From this we can say that longitude is inversely proportional to latitude."
   ]
  },
  {
   "cell_type": "markdown",
   "id": "34917450",
   "metadata": {},
   "source": [
    "it is also be noted that latitude vs longitude has negative correlation as here y-axis is increasing while x-axis is decreasing,i.e., both are moving in an opposite direction."
   ]
  },
  {
   "cell_type": "markdown",
   "id": "2c161a38",
   "metadata": {},
   "source": [
    "### 8. Create a data set for which ocean_proximity is \"Near ocean\"."
   ]
  },
  {
   "cell_type": "code",
   "execution_count": 83,
   "id": "76463985",
   "metadata": {},
   "outputs": [
    {
     "data": {
      "text/html": [
       "<div>\n",
       "<style scoped>\n",
       "    .dataframe tbody tr th:only-of-type {\n",
       "        vertical-align: middle;\n",
       "    }\n",
       "\n",
       "    .dataframe tbody tr th {\n",
       "        vertical-align: top;\n",
       "    }\n",
       "\n",
       "    .dataframe thead th {\n",
       "        text-align: right;\n",
       "    }\n",
       "</style>\n",
       "<table border=\"1\" class=\"dataframe\">\n",
       "  <thead>\n",
       "    <tr style=\"text-align: right;\">\n",
       "      <th></th>\n",
       "      <th>longitude</th>\n",
       "      <th>latitude</th>\n",
       "      <th>housing_median_age</th>\n",
       "      <th>total_rooms</th>\n",
       "      <th>total_bedrooms</th>\n",
       "      <th>population</th>\n",
       "      <th>households</th>\n",
       "      <th>median_income</th>\n",
       "      <th>median_house_value</th>\n",
       "      <th>ocean_proximity</th>\n",
       "    </tr>\n",
       "  </thead>\n",
       "  <tbody>\n",
       "    <tr>\n",
       "      <th>1850</th>\n",
       "      <td>-124.17</td>\n",
       "      <td>41.80</td>\n",
       "      <td>16</td>\n",
       "      <td>2739</td>\n",
       "      <td>480.0</td>\n",
       "      <td>1259</td>\n",
       "      <td>436</td>\n",
       "      <td>3.7557</td>\n",
       "      <td>109400</td>\n",
       "      <td>NEAR OCEAN</td>\n",
       "    </tr>\n",
       "    <tr>\n",
       "      <th>1851</th>\n",
       "      <td>-124.30</td>\n",
       "      <td>41.80</td>\n",
       "      <td>19</td>\n",
       "      <td>2672</td>\n",
       "      <td>552.0</td>\n",
       "      <td>1298</td>\n",
       "      <td>478</td>\n",
       "      <td>1.9797</td>\n",
       "      <td>85800</td>\n",
       "      <td>NEAR OCEAN</td>\n",
       "    </tr>\n",
       "    <tr>\n",
       "      <th>1852</th>\n",
       "      <td>-124.23</td>\n",
       "      <td>41.75</td>\n",
       "      <td>11</td>\n",
       "      <td>3159</td>\n",
       "      <td>616.0</td>\n",
       "      <td>1343</td>\n",
       "      <td>479</td>\n",
       "      <td>2.4805</td>\n",
       "      <td>73200</td>\n",
       "      <td>NEAR OCEAN</td>\n",
       "    </tr>\n",
       "    <tr>\n",
       "      <th>1853</th>\n",
       "      <td>-124.21</td>\n",
       "      <td>41.77</td>\n",
       "      <td>17</td>\n",
       "      <td>3461</td>\n",
       "      <td>722.0</td>\n",
       "      <td>1947</td>\n",
       "      <td>647</td>\n",
       "      <td>2.5795</td>\n",
       "      <td>68400</td>\n",
       "      <td>NEAR OCEAN</td>\n",
       "    </tr>\n",
       "    <tr>\n",
       "      <th>1854</th>\n",
       "      <td>-124.19</td>\n",
       "      <td>41.78</td>\n",
       "      <td>15</td>\n",
       "      <td>3140</td>\n",
       "      <td>714.0</td>\n",
       "      <td>1645</td>\n",
       "      <td>640</td>\n",
       "      <td>1.6654</td>\n",
       "      <td>74600</td>\n",
       "      <td>NEAR OCEAN</td>\n",
       "    </tr>\n",
       "    <tr>\n",
       "      <th>...</th>\n",
       "      <td>...</td>\n",
       "      <td>...</td>\n",
       "      <td>...</td>\n",
       "      <td>...</td>\n",
       "      <td>...</td>\n",
       "      <td>...</td>\n",
       "      <td>...</td>\n",
       "      <td>...</td>\n",
       "      <td>...</td>\n",
       "      <td>...</td>\n",
       "    </tr>\n",
       "    <tr>\n",
       "      <th>20380</th>\n",
       "      <td>-118.83</td>\n",
       "      <td>34.14</td>\n",
       "      <td>16</td>\n",
       "      <td>1316</td>\n",
       "      <td>194.0</td>\n",
       "      <td>450</td>\n",
       "      <td>173</td>\n",
       "      <td>10.1597</td>\n",
       "      <td>500001</td>\n",
       "      <td>NEAR OCEAN</td>\n",
       "    </tr>\n",
       "    <tr>\n",
       "      <th>20381</th>\n",
       "      <td>-118.83</td>\n",
       "      <td>34.14</td>\n",
       "      <td>16</td>\n",
       "      <td>1956</td>\n",
       "      <td>312.0</td>\n",
       "      <td>671</td>\n",
       "      <td>319</td>\n",
       "      <td>6.4001</td>\n",
       "      <td>321800</td>\n",
       "      <td>NEAR OCEAN</td>\n",
       "    </tr>\n",
       "    <tr>\n",
       "      <th>20423</th>\n",
       "      <td>-119.00</td>\n",
       "      <td>34.08</td>\n",
       "      <td>17</td>\n",
       "      <td>1822</td>\n",
       "      <td>438.0</td>\n",
       "      <td>578</td>\n",
       "      <td>291</td>\n",
       "      <td>5.4346</td>\n",
       "      <td>428600</td>\n",
       "      <td>NEAR OCEAN</td>\n",
       "    </tr>\n",
       "    <tr>\n",
       "      <th>20424</th>\n",
       "      <td>-118.75</td>\n",
       "      <td>34.18</td>\n",
       "      <td>4</td>\n",
       "      <td>16704</td>\n",
       "      <td>2704.0</td>\n",
       "      <td>6187</td>\n",
       "      <td>2207</td>\n",
       "      <td>6.6122</td>\n",
       "      <td>357600</td>\n",
       "      <td>NEAR OCEAN</td>\n",
       "    </tr>\n",
       "    <tr>\n",
       "      <th>20425</th>\n",
       "      <td>-118.75</td>\n",
       "      <td>34.17</td>\n",
       "      <td>18</td>\n",
       "      <td>6217</td>\n",
       "      <td>858.0</td>\n",
       "      <td>2703</td>\n",
       "      <td>834</td>\n",
       "      <td>6.8075</td>\n",
       "      <td>325900</td>\n",
       "      <td>NEAR OCEAN</td>\n",
       "    </tr>\n",
       "  </tbody>\n",
       "</table>\n",
       "<p>2658 rows × 10 columns</p>\n",
       "</div>"
      ],
      "text/plain": [
       "       longitude  latitude  housing_median_age  total_rooms  total_bedrooms  \\\n",
       "1850     -124.17     41.80                  16         2739           480.0   \n",
       "1851     -124.30     41.80                  19         2672           552.0   \n",
       "1852     -124.23     41.75                  11         3159           616.0   \n",
       "1853     -124.21     41.77                  17         3461           722.0   \n",
       "1854     -124.19     41.78                  15         3140           714.0   \n",
       "...          ...       ...                 ...          ...             ...   \n",
       "20380    -118.83     34.14                  16         1316           194.0   \n",
       "20381    -118.83     34.14                  16         1956           312.0   \n",
       "20423    -119.00     34.08                  17         1822           438.0   \n",
       "20424    -118.75     34.18                   4        16704          2704.0   \n",
       "20425    -118.75     34.17                  18         6217           858.0   \n",
       "\n",
       "       population  households  median_income  median_house_value  \\\n",
       "1850         1259         436         3.7557              109400   \n",
       "1851         1298         478         1.9797               85800   \n",
       "1852         1343         479         2.4805               73200   \n",
       "1853         1947         647         2.5795               68400   \n",
       "1854         1645         640         1.6654               74600   \n",
       "...           ...         ...            ...                 ...   \n",
       "20380         450         173        10.1597              500001   \n",
       "20381         671         319         6.4001              321800   \n",
       "20423         578         291         5.4346              428600   \n",
       "20424        6187        2207         6.6122              357600   \n",
       "20425        2703         834         6.8075              325900   \n",
       "\n",
       "      ocean_proximity  \n",
       "1850       NEAR OCEAN  \n",
       "1851       NEAR OCEAN  \n",
       "1852       NEAR OCEAN  \n",
       "1853       NEAR OCEAN  \n",
       "1854       NEAR OCEAN  \n",
       "...               ...  \n",
       "20380      NEAR OCEAN  \n",
       "20381      NEAR OCEAN  \n",
       "20423      NEAR OCEAN  \n",
       "20424      NEAR OCEAN  \n",
       "20425      NEAR OCEAN  \n",
       "\n",
       "[2658 rows x 10 columns]"
      ]
     },
     "execution_count": 83,
     "metadata": {},
     "output_type": "execute_result"
    }
   ],
   "source": [
    "new_data = df.loc[df[\"ocean_proximity\"] == \"NEAR OCEAN\"] # Here, loc is an label based method which is used to select rows and \n",
    "                                                         # columns by Names/Labels\n",
    "                                                         # loc is an essential pandas method used for filtering, selecting and \n",
    "                                                         # manipulating the data\n",
    "new_data "
   ]
  },
  {
   "cell_type": "markdown",
   "id": "010008cc",
   "metadata": {},
   "source": [
    "From the above code we have created a new data set for the variable 'ocean_proximity' with the value 'NEAR OCEAN' which has 2658 rows and 10 columns."
   ]
  },
  {
   "cell_type": "markdown",
   "id": "eb404791",
   "metadata": {},
   "source": [
    "### 9. Find the mean and median of the median_income for the data set created in question 8."
   ]
  },
  {
   "cell_type": "code",
   "execution_count": 84,
   "id": "3f927715",
   "metadata": {},
   "outputs": [
    {
     "name": "stdout",
     "output_type": "stream",
     "text": [
      "The mean of the median_income is: 4.005784800601957\n"
     ]
    }
   ],
   "source": [
    "mean_income = new_data['median_income'].mean() # mean() function gives the average of the data\n",
    "                                 # mean() is applicable for discrete and continuous data but not for categorical data\n",
    "                                 # mean = sum of observations / number of observations\n",
    "print(f\"The mean of the median_income is: {mean_income}\")"
   ]
  },
  {
   "cell_type": "code",
   "execution_count": 85,
   "id": "c0d3d26e",
   "metadata": {},
   "outputs": [
    {
     "name": "stdout",
     "output_type": "stream",
     "text": [
      "The median of the median_income is: 3.64705\n"
     ]
    }
   ],
   "source": [
    "median_income = new_data['median_income'].median() # median() function gives the 50th percentile of the set of all observations.\n",
    "print(f\"The median of the median_income is: {median_income}\")"
   ]
  },
  {
   "cell_type": "markdown",
   "id": "ed73c14b",
   "metadata": {},
   "source": [
    "From the above code, it is observed that the mean and median of the median_income is : 4.0057848 and 3.64705"
   ]
  },
  {
   "cell_type": "markdown",
   "id": "5e965fb1",
   "metadata": {},
   "source": [
    "### 10. Please create a new column total_bedroom_size . If the total_bedrooms is 10 or less, it should be quoted as small. If the total_bedrooms is 11 or more but less than 1000, it should be medium, otherwise it should be considered large."
   ]
  },
  {
   "cell_type": "code",
   "execution_count": 86,
   "id": "54eb339e",
   "metadata": {},
   "outputs": [
    {
     "data": {
      "text/html": [
       "<div>\n",
       "<style scoped>\n",
       "    .dataframe tbody tr th:only-of-type {\n",
       "        vertical-align: middle;\n",
       "    }\n",
       "\n",
       "    .dataframe tbody tr th {\n",
       "        vertical-align: top;\n",
       "    }\n",
       "\n",
       "    .dataframe thead th {\n",
       "        text-align: right;\n",
       "    }\n",
       "</style>\n",
       "<table border=\"1\" class=\"dataframe\">\n",
       "  <thead>\n",
       "    <tr style=\"text-align: right;\">\n",
       "      <th></th>\n",
       "      <th>longitude</th>\n",
       "      <th>latitude</th>\n",
       "      <th>housing_median_age</th>\n",
       "      <th>total_rooms</th>\n",
       "      <th>total_bedrooms</th>\n",
       "      <th>population</th>\n",
       "      <th>households</th>\n",
       "      <th>median_income</th>\n",
       "      <th>median_house_value</th>\n",
       "      <th>ocean_proximity</th>\n",
       "      <th>total_bedroom_size</th>\n",
       "    </tr>\n",
       "  </thead>\n",
       "  <tbody>\n",
       "    <tr>\n",
       "      <th>0</th>\n",
       "      <td>-122.23</td>\n",
       "      <td>37.88</td>\n",
       "      <td>41</td>\n",
       "      <td>880</td>\n",
       "      <td>129.0</td>\n",
       "      <td>322</td>\n",
       "      <td>126</td>\n",
       "      <td>8.3252</td>\n",
       "      <td>452600</td>\n",
       "      <td>NEAR BAY</td>\n",
       "      <td>Medium</td>\n",
       "    </tr>\n",
       "    <tr>\n",
       "      <th>1</th>\n",
       "      <td>-122.22</td>\n",
       "      <td>37.86</td>\n",
       "      <td>21</td>\n",
       "      <td>7099</td>\n",
       "      <td>1106.0</td>\n",
       "      <td>2401</td>\n",
       "      <td>1138</td>\n",
       "      <td>8.3014</td>\n",
       "      <td>358500</td>\n",
       "      <td>NEAR BAY</td>\n",
       "      <td>Large</td>\n",
       "    </tr>\n",
       "    <tr>\n",
       "      <th>2</th>\n",
       "      <td>-122.24</td>\n",
       "      <td>37.85</td>\n",
       "      <td>52</td>\n",
       "      <td>1467</td>\n",
       "      <td>190.0</td>\n",
       "      <td>496</td>\n",
       "      <td>177</td>\n",
       "      <td>7.2574</td>\n",
       "      <td>352100</td>\n",
       "      <td>NEAR BAY</td>\n",
       "      <td>Medium</td>\n",
       "    </tr>\n",
       "    <tr>\n",
       "      <th>3</th>\n",
       "      <td>-122.25</td>\n",
       "      <td>37.85</td>\n",
       "      <td>52</td>\n",
       "      <td>1274</td>\n",
       "      <td>235.0</td>\n",
       "      <td>558</td>\n",
       "      <td>219</td>\n",
       "      <td>5.6431</td>\n",
       "      <td>341300</td>\n",
       "      <td>NEAR BAY</td>\n",
       "      <td>Medium</td>\n",
       "    </tr>\n",
       "    <tr>\n",
       "      <th>4</th>\n",
       "      <td>-122.25</td>\n",
       "      <td>37.85</td>\n",
       "      <td>52</td>\n",
       "      <td>1627</td>\n",
       "      <td>280.0</td>\n",
       "      <td>565</td>\n",
       "      <td>259</td>\n",
       "      <td>3.8462</td>\n",
       "      <td>342200</td>\n",
       "      <td>NEAR BAY</td>\n",
       "      <td>Medium</td>\n",
       "    </tr>\n",
       "    <tr>\n",
       "      <th>...</th>\n",
       "      <td>...</td>\n",
       "      <td>...</td>\n",
       "      <td>...</td>\n",
       "      <td>...</td>\n",
       "      <td>...</td>\n",
       "      <td>...</td>\n",
       "      <td>...</td>\n",
       "      <td>...</td>\n",
       "      <td>...</td>\n",
       "      <td>...</td>\n",
       "      <td>...</td>\n",
       "    </tr>\n",
       "    <tr>\n",
       "      <th>20635</th>\n",
       "      <td>-121.09</td>\n",
       "      <td>39.48</td>\n",
       "      <td>25</td>\n",
       "      <td>1665</td>\n",
       "      <td>374.0</td>\n",
       "      <td>845</td>\n",
       "      <td>330</td>\n",
       "      <td>1.5603</td>\n",
       "      <td>78100</td>\n",
       "      <td>INLAND</td>\n",
       "      <td>Medium</td>\n",
       "    </tr>\n",
       "    <tr>\n",
       "      <th>20636</th>\n",
       "      <td>-121.21</td>\n",
       "      <td>39.49</td>\n",
       "      <td>18</td>\n",
       "      <td>697</td>\n",
       "      <td>150.0</td>\n",
       "      <td>356</td>\n",
       "      <td>114</td>\n",
       "      <td>2.5568</td>\n",
       "      <td>77100</td>\n",
       "      <td>INLAND</td>\n",
       "      <td>Medium</td>\n",
       "    </tr>\n",
       "    <tr>\n",
       "      <th>20637</th>\n",
       "      <td>-121.22</td>\n",
       "      <td>39.43</td>\n",
       "      <td>17</td>\n",
       "      <td>2254</td>\n",
       "      <td>485.0</td>\n",
       "      <td>1007</td>\n",
       "      <td>433</td>\n",
       "      <td>1.7000</td>\n",
       "      <td>92300</td>\n",
       "      <td>INLAND</td>\n",
       "      <td>Medium</td>\n",
       "    </tr>\n",
       "    <tr>\n",
       "      <th>20638</th>\n",
       "      <td>-121.32</td>\n",
       "      <td>39.43</td>\n",
       "      <td>18</td>\n",
       "      <td>1860</td>\n",
       "      <td>409.0</td>\n",
       "      <td>741</td>\n",
       "      <td>349</td>\n",
       "      <td>1.8672</td>\n",
       "      <td>84700</td>\n",
       "      <td>INLAND</td>\n",
       "      <td>Medium</td>\n",
       "    </tr>\n",
       "    <tr>\n",
       "      <th>20639</th>\n",
       "      <td>-121.24</td>\n",
       "      <td>39.37</td>\n",
       "      <td>16</td>\n",
       "      <td>2785</td>\n",
       "      <td>616.0</td>\n",
       "      <td>1387</td>\n",
       "      <td>530</td>\n",
       "      <td>2.3886</td>\n",
       "      <td>89400</td>\n",
       "      <td>INLAND</td>\n",
       "      <td>Medium</td>\n",
       "    </tr>\n",
       "  </tbody>\n",
       "</table>\n",
       "<p>20640 rows × 11 columns</p>\n",
       "</div>"
      ],
      "text/plain": [
       "       longitude  latitude  housing_median_age  total_rooms  total_bedrooms  \\\n",
       "0        -122.23     37.88                  41          880           129.0   \n",
       "1        -122.22     37.86                  21         7099          1106.0   \n",
       "2        -122.24     37.85                  52         1467           190.0   \n",
       "3        -122.25     37.85                  52         1274           235.0   \n",
       "4        -122.25     37.85                  52         1627           280.0   \n",
       "...          ...       ...                 ...          ...             ...   \n",
       "20635    -121.09     39.48                  25         1665           374.0   \n",
       "20636    -121.21     39.49                  18          697           150.0   \n",
       "20637    -121.22     39.43                  17         2254           485.0   \n",
       "20638    -121.32     39.43                  18         1860           409.0   \n",
       "20639    -121.24     39.37                  16         2785           616.0   \n",
       "\n",
       "       population  households  median_income  median_house_value  \\\n",
       "0             322         126         8.3252              452600   \n",
       "1            2401        1138         8.3014              358500   \n",
       "2             496         177         7.2574              352100   \n",
       "3             558         219         5.6431              341300   \n",
       "4             565         259         3.8462              342200   \n",
       "...           ...         ...            ...                 ...   \n",
       "20635         845         330         1.5603               78100   \n",
       "20636         356         114         2.5568               77100   \n",
       "20637        1007         433         1.7000               92300   \n",
       "20638         741         349         1.8672               84700   \n",
       "20639        1387         530         2.3886               89400   \n",
       "\n",
       "      ocean_proximity total_bedroom_size  \n",
       "0            NEAR BAY             Medium  \n",
       "1            NEAR BAY              Large  \n",
       "2            NEAR BAY             Medium  \n",
       "3            NEAR BAY             Medium  \n",
       "4            NEAR BAY             Medium  \n",
       "...               ...                ...  \n",
       "20635          INLAND             Medium  \n",
       "20636          INLAND             Medium  \n",
       "20637          INLAND             Medium  \n",
       "20638          INLAND             Medium  \n",
       "20639          INLAND             Medium  \n",
       "\n",
       "[20640 rows x 11 columns]"
      ]
     },
     "execution_count": 86,
     "metadata": {},
     "output_type": "execute_result"
    }
   ],
   "source": [
    "conditions = [\n",
    "    (df['total_bedrooms']<=10), # Here, the condition with total_bedrooms size less than or equal to 10 is taken.\n",
    "    (df['total_bedrooms']>=11) & (df['total_bedrooms']<1000), # The condition for no of bedrooms greater than or equal to 11 and\n",
    "                                                              # also the no of bedrooms less than 1000 is taken.\n",
    "    (df['total_bedrooms']>=1000)                              # Here, the condition for no of bedrooms greater than or equal to\n",
    "]                                                             # 1000 is taken.\n",
    "values = ['Small','Medium','Large']                           # Here, The values for the above conditions is mentioned.\n",
    "df['total_bedroom_size'] = np.select(conditions,values)# Here, I created a new column with total_bedroom_size and with the help \n",
    "df                                                     # numerical python as np taken the function select which takes the \n",
    "                                                       # parameters as conditions and values."
   ]
  },
  {
   "cell_type": "markdown",
   "id": "d5320cf1",
   "metadata": {},
   "source": [
    "In the above dataset, a new column total_bedroom_size has been added. Where total_bedroom_size has been compared to the number of total_bedrooms while mentioning about the sizes of total_bedroom_size, where:"
   ]
  },
  {
   "cell_type": "markdown",
   "id": "85222a4a",
   "metadata": {},
   "source": [
    "if total_bedroom_size <=10 it is indicated as \"Small\", if the total_bedroom_size >=11 and total_bedroom_size < 1000 it is indicated as \"Medium\", if the total_bedroom_size >=1000 it is indicated as \"Large\"."
   ]
  },
  {
   "cell_type": "markdown",
   "id": "935606d5",
   "metadata": {},
   "source": [
    "# CONCLUSION : "
   ]
  },
  {
   "cell_type": "markdown",
   "id": "6f494de3",
   "metadata": {},
   "source": [
    "1.From the given dataset it is to be noted that the outliers are present for housing_median_age and median_house_value.\n",
    "\n",
    "2.All the features present in this dataset are of float and integer data type except ocean_proximity which is of object datatype.\n",
    "\n",
    "3.housing_median_age is of fairly symmetric as the skewness value (-0.5 to -0.1).\n",
    "\n",
    "4.plot between median_income vs median_house_values is directly proportional to each other as it has positive correlation.\n",
    "\n",
    "5.plot between latitude and longitude is inversely proportional to each other as within increase in latitude,there is decrease in longitude.Therefore ,it has a negative correlation."
   ]
  },
  {
   "cell_type": "code",
   "execution_count": null,
   "id": "125322af",
   "metadata": {},
   "outputs": [],
   "source": []
  }
 ],
 "metadata": {
  "kernelspec": {
   "display_name": "Python 3 (ipykernel)",
   "language": "python",
   "name": "python3"
  },
  "language_info": {
   "codemirror_mode": {
    "name": "ipython",
    "version": 3
   },
   "file_extension": ".py",
   "mimetype": "text/x-python",
   "name": "python",
   "nbconvert_exporter": "python",
   "pygments_lexer": "ipython3",
   "version": "3.9.13"
  }
 },
 "nbformat": 4,
 "nbformat_minor": 5
}
